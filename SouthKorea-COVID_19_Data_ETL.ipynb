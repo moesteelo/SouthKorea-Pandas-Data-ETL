{
 "cells": [
  {
   "cell_type": "code",
   "execution_count": null,
   "id": "1447753e",
   "metadata": {},
   "outputs": [],
   "source": [
    "import pandas as pd\n",
    "import numpy as np\n",
    "import matplotlib.pyplot as plt\n",
    "import seaborn as sns\n",
    "\n",
    "case = pd.read_csv(\"Data Resources/Case.csv\")\n",
    "patient = pd.read_csv(\"Data Resources/PatientInfo.csv\")\n",
    "policy = pd.read_csv(\"Data Resources/Policy.csv\")\n",
    "region = pd.read_csv(\"Data Resources/Region.csv\")\n",
    "search = pd.read_csv(\"Data Resources/SearchTrend.csv\")\n",
    "seoul = pd.read_csv(\"Data Resources/SeoulFloating.csv\")\n",
    "time = pd.read_csv(\"Data Resources/Time.csv\")\n",
    "timeAge = pd.read_csv(\"Data Resources/TimeAge.csv\")\n",
    "timeGender = pd.read_csv(\"Data Resources/TimeGender.csv\")\n",
    "timeProvince = pd.read_csv(\"t/TimeProvince.csv\")\n",
    "weather = pd.read_csv(\"../data/coronavirusdataset/Weather.csv\")"
   ]
  }
 ],
 "metadata": {
  "kernelspec": {
   "display_name": "PythonData",
   "language": "python",
   "name": "pythondata"
  },
  "language_info": {
   "codemirror_mode": {
    "name": "ipython",
    "version": 3
   },
   "file_extension": ".py",
   "mimetype": "text/x-python",
   "name": "python",
   "nbconvert_exporter": "python",
   "pygments_lexer": "ipython3",
   "version": "3.7.10"
  }
 },
 "nbformat": 4,
 "nbformat_minor": 5
}
