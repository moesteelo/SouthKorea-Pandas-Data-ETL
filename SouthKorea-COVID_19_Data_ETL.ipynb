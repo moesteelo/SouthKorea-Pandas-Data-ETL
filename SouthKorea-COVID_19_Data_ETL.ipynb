{
 "cells": [
  {
   "cell_type": "code",
   "execution_count": 2,
   "id": "838610c9",
   "metadata": {},
   "outputs": [],
   "source": [
    "import pandas as pd\n",
    "import numpy as np\n",
    "import matplotlib.pyplot as plt\n",
    "import seaborn as sns\n",
    "\n",
    "case = pd.read_csv(\"Data Resources/Case.csv\")\n",
    "patient = pd.read_csv(\"Data Resources/PatientInfo.csv\")\n",
    "policy = pd.read_csv(\"Data Resources/Policy.csv\")\n",
    "region = pd.read_csv(\"Data Resources/Region.csv\")\n",
    "search = pd.read_csv(\"Data Resources/SearchTrend.csv\")\n",
    "seoul = pd.read_csv(\"Data Resources/SeoulFloating.csv\")\n",
    "time = pd.read_csv(\"Data Resources/Time.csv\")\n",
    "timeAge = pd.read_csv(\"Data Resources/TimeAge.csv\")\n",
    "timeGender = pd.read_csv(\"Data Resources/TimeGender.csv\")\n",
    "timeProvince = pd.read_csv(\"Data Resources/TimeProvince.csv\")\n",
    "weather = pd.read_csv(\"Data Resources/Weather.csv\")"
   ]
  },
  {
   "cell_type": "markdown",
   "id": "61b83bcf",
   "metadata": {},
   "source": [
    "# Merging  AGE csv files sets to a Single Dataset"
   ]
  },
  {
   "cell_type": "code",
   "execution_count": 6,
   "id": "1e38c502",
   "metadata": {},
   "outputs": [],
   "source": [
    "agePivot = timeAge.pivot(index='date', columns='age', values=['confirmed', 'deceased'])\n",
    "genderPivot = timeAge.pivot(index='date', columns='age', values=['confirmed', 'deceased'])\n",
    "provincePoint = timeAge.pivot(index='date', columns='age', values=['confirmed', 'deceased'])"
   ]
  },
  {
   "cell_type": "code",
   "execution_count": 10,
   "id": "d5c3ea3f",
   "metadata": {},
   "outputs": [],
   "source": [
    "agePivot.columns = ['-'.join(col) for col in agePivot.columns]\n",
    "genderPivot.columns = ['-'.join(col) for col in genderPivot.columns]\n",
    "provincePoint.columns = ['-'.join(col) for col in provincePoint.columns]"
   ]
  },
  {
   "cell_type": "markdown",
   "id": "dde3673c",
   "metadata": {},
   "source": [
    "# Merging flattened datasets using df.concat()"
   ]
  },
  {
   "cell_type": "code",
   "execution_count": null,
   "id": "18962afc",
   "metadata": {},
   "outputs": [],
   "source": [
    "pivots = pd.concat"
   ]
  }
 ],
 "metadata": {
  "kernelspec": {
   "display_name": "PythonData",
   "language": "python",
   "name": "pythondata"
  },
  "language_info": {
   "codemirror_mode": {
    "name": "ipython",
    "version": 3
   },
   "file_extension": ".py",
   "mimetype": "text/x-python",
   "name": "python",
   "nbconvert_exporter": "python",
   "pygments_lexer": "ipython3",
   "version": "3.7.10"
  }
 },
 "nbformat": 4,
 "nbformat_minor": 5
}
