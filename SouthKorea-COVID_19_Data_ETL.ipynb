{
 "cells": [
  {
   "cell_type": "code",
   "execution_count": 2,
   "id": "b62145ca",
   "metadata": {},
   "outputs": [],
   "source": [
    "import pandas as pd\n",
    "import numpy as np\n",
    "import matplotlib.pyplot as plt\n",
    "import seaborn as sns\n",
    "\n",
    "case = pd.read_csv(\"Data Resources/Case.csv\")\n",
    "patient = pd.read_csv(\"Data Resources/PatientInfo.csv\")\n",
    "policy = pd.read_csv(\"Data Resources/Policy.csv\")\n",
    "region = pd.read_csv(\"Data Resources/Region.csv\")\n",
    "search = pd.read_csv(\"Data Resources/SearchTrend.csv\")\n",
    "seoul = pd.read_csv(\"Data Resources/SeoulFloating.csv\")\n",
    "time = pd.read_csv(\"Data Resources/Time.csv\")\n",
    "timeAge = pd.read_csv(\"Data Resources/TimeAge.csv\")\n",
    "timeGender = pd.read_csv(\"Data Resources/TimeGender.csv\")\n",
    "timeProvince = pd.read_csv(\"Data Resources/TimeProvince.csv\")\n",
    "weather = pd.read_csv(\"Data Resources/Weather.csv\")"
   ]
  },
  {
   "cell_type": "markdown",
   "id": "cda6a2aa",
   "metadata": {},
   "source": [
    "# Merging  AGE csv files sets to a Single Dataset"
   ]
  },
  {
   "cell_type": "code",
   "execution_count": 6,
   "id": "a2db848a",
   "metadata": {},
   "outputs": [],
   "source": [
    "agePivot = timeAge.pivot(index='date', columns='age', values=['confirmed', 'deceased'])\n",
    "genderPivot = timeAge.pivot(index='date', columns='age', values=['confirmed', 'deceased'])\n",
    "provincePoint = timeAge.pivot(index='date', columns='age', values=['confirmed', 'deceased'])"
   ]
  },
  {
   "cell_type": "code",
   "execution_count": 8,
   "id": "adb4cec2",
   "metadata": {},
   "outputs": [
    {
     "ename": "NameError",
     "evalue": "name 'provincePivot' is not defined",
     "output_type": "error",
     "traceback": [
      "\u001b[0;31m---------------------------------------------------------------------------\u001b[0m",
      "\u001b[0;31mNameError\u001b[0m                                 Traceback (most recent call last)",
      "\u001b[0;32m<ipython-input-8-511745bca56e>\u001b[0m in \u001b[0;36m<module>\u001b[0;34m\u001b[0m\n\u001b[1;32m      1\u001b[0m \u001b[0magePivot\u001b[0m\u001b[0;34m.\u001b[0m\u001b[0mcolumns\u001b[0m \u001b[0;34m=\u001b[0m \u001b[0;34m[\u001b[0m\u001b[0;34m'-'\u001b[0m\u001b[0;34m.\u001b[0m\u001b[0mjoin\u001b[0m\u001b[0;34m(\u001b[0m\u001b[0mcol\u001b[0m\u001b[0;34m)\u001b[0m \u001b[0;32mfor\u001b[0m \u001b[0mcol\u001b[0m \u001b[0;32min\u001b[0m \u001b[0magePivot\u001b[0m\u001b[0;34m.\u001b[0m\u001b[0mcolumns\u001b[0m\u001b[0;34m]\u001b[0m\u001b[0;34m\u001b[0m\u001b[0;34m\u001b[0m\u001b[0m\n\u001b[1;32m      2\u001b[0m \u001b[0mgenderPivot\u001b[0m\u001b[0;34m.\u001b[0m\u001b[0mcolumns\u001b[0m \u001b[0;34m=\u001b[0m \u001b[0;34m[\u001b[0m\u001b[0;34m'-'\u001b[0m\u001b[0;34m.\u001b[0m\u001b[0mjoin\u001b[0m\u001b[0;34m(\u001b[0m\u001b[0mcol\u001b[0m\u001b[0;34m)\u001b[0m \u001b[0;32mfor\u001b[0m \u001b[0mcol\u001b[0m \u001b[0;32min\u001b[0m \u001b[0mgenderPivot\u001b[0m\u001b[0;34m.\u001b[0m\u001b[0mcolumns\u001b[0m\u001b[0;34m]\u001b[0m\u001b[0;34m\u001b[0m\u001b[0;34m\u001b[0m\u001b[0m\n\u001b[0;32m----> 3\u001b[0;31m \u001b[0mproivincePivot\u001b[0m\u001b[0;34m.\u001b[0m\u001b[0mcolumns\u001b[0m \u001b[0;34m=\u001b[0m \u001b[0;34m[\u001b[0m\u001b[0;34m'-'\u001b[0m\u001b[0;34m.\u001b[0m\u001b[0mjoin\u001b[0m\u001b[0;34m(\u001b[0m\u001b[0mcol\u001b[0m\u001b[0;34m)\u001b[0m \u001b[0;32mfor\u001b[0m \u001b[0mcol\u001b[0m \u001b[0;32min\u001b[0m \u001b[0mprovincePivot\u001b[0m\u001b[0;34m.\u001b[0m\u001b[0mcolumns\u001b[0m\u001b[0;34m]\u001b[0m\u001b[0;34m\u001b[0m\u001b[0;34m\u001b[0m\u001b[0m\n\u001b[0m",
      "\u001b[0;31mNameError\u001b[0m: name 'provincePivot' is not defined"
     ]
    }
   ],
   "source": [
    "agePivot.columns = ['-'.join(col) for col in agePivot.columns]\n",
    "genderPivot.columns = ['-'.join(col) for col in genderPivot.columns]\n",
    "proivincePivot.columns = ['-'.join(col) for col in provincePivot.columns]"
   ]
  },
  {
   "cell_type": "code",
   "execution_count": null,
   "id": "9926adb3",
   "metadata": {},
   "outputs": [],
   "source": []
  }
 ],
 "metadata": {
  "kernelspec": {
   "display_name": "PythonData",
   "language": "python",
   "name": "pythondata"
  },
  "language_info": {
   "codemirror_mode": {
    "name": "ipython",
    "version": 3
   },
   "file_extension": ".py",
   "mimetype": "text/x-python",
   "name": "python",
   "nbconvert_exporter": "python",
   "pygments_lexer": "ipython3",
   "version": "3.7.10"
  }
 },
 "nbformat": 4,
 "nbformat_minor": 5
}
