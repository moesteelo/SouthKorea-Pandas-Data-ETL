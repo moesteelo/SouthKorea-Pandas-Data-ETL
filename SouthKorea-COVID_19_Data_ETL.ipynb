{
 "cells": [
  {
   "cell_type": "code",
   "execution_count": 2,
   "id": "ad4f5b60",
   "metadata": {},
   "outputs": [],
   "source": [
    "import pandas as pd\n",
    "import numpy as np\n",
    "import matplotlib.pyplot as plt\n",
    "import seaborn as sns\n",
    "\n",
    "case = pd.read_csv(\"Data Resources/Case.csv\")\n",
    "patient = pd.read_csv(\"Data Resources/PatientInfo.csv\")\n",
    "policy = pd.read_csv(\"Data Resources/Policy.csv\")\n",
    "region = pd.read_csv(\"Data Resources/Region.csv\")\n",
    "search = pd.read_csv(\"Data Resources/SearchTrend.csv\")\n",
    "seoul = pd.read_csv(\"Data Resources/SeoulFloating.csv\")\n",
    "time = pd.read_csv(\"Data Resources/Time.csv\")\n",
    "timeAge = pd.read_csv(\"Data Resources/TimeAge.csv\")\n",
    "timeGender = pd.read_csv(\"Data Resources/TimeGender.csv\")\n",
    "timeProvince = pd.read_csv(\"Data Resources/TimeProvince.csv\")\n",
    "weather = pd.read_csv(\"Data Resources/Weather.csv\")"
   ]
  },
  {
   "cell_type": "markdown",
   "id": "78f1ba47",
   "metadata": {},
   "source": [
    "# Merging  AGE csv files sets to a Single Dataset"
   ]
  },
  {
   "cell_type": "code",
   "execution_count": 6,
   "id": "e09fb989",
   "metadata": {},
   "outputs": [],
   "source": [
    "agePivot = timeAge.pivot(index='date', columns='age', values=['confirmed', 'deceased'])\n",
    "genderPivot = timeAge.pivot(index='date', columns='age', values=['confirmed', 'deceased'])\n",
    "provincePoint = timeAge.pivot(index='date', columns='age', values=['confirmed', 'deceased'])"
   ]
  },
  {
   "cell_type": "code",
   "execution_count": 10,
   "id": "cedcdc89",
   "metadata": {},
   "outputs": [],
   "source": [
    "agePivot.columns = ['-'.join(col) for col in agePivot.columns]\n",
    "genderPivot.columns = ['-'.join(col) for col in genderPivot.columns]\n",
    "provincePoint.columns = ['-'.join(col) for col in provincePoint.columns]"
   ]
  },
  {
   "cell_type": "markdown",
   "id": "67480a3c",
   "metadata": {},
   "source": [
    "# Merging flattened datasets using df.concat()"
   ]
  },
  {
   "cell_type": "code",
   "execution_count": 12,
   "id": "a97f6a72",
   "metadata": {},
   "outputs": [],
   "source": [
    "pivots = pd.concat([agePivot, genderPivot, provincePoint], axis=1)\n",
    "\n",
    "timeDF = time.merge(pivots, on='date', how='left')"
   ]
  },
  {
   "cell_type": "markdown",
   "id": "e6d21d73",
   "metadata": {},
   "source": [
    "# Prepare master Dataset"
   ]
  },
  {
   "cell_type": "code",
   "execution_count": 13,
   "id": "d75d63bd",
   "metadata": {},
   "outputs": [
    {
     "name": "stdout",
     "output_type": "stream",
     "text": [
      "<class 'pandas.core.frame.DataFrame'>\n",
      "Int64Index: 5165 entries, 0 to 5164\n",
      "Data columns (total 20 columns):\n",
      "patient_id            5165 non-null int64\n",
      "sex                   4043 non-null object\n",
      "age                   3785 non-null object\n",
      "country               5165 non-null object\n",
      "province              5165 non-null object\n",
      "city                  5071 non-null object\n",
      "infection_case        4246 non-null object\n",
      "infected_by           1346 non-null object\n",
      "contact_number        791 non-null object\n",
      "symptom_onset_date    690 non-null object\n",
      "confirmed_date        5162 non-null object\n",
      "released_date         1587 non-null object\n",
      "deceased_date         66 non-null object\n",
      "state                 5165 non-null object\n",
      " case_id              4233 non-null float64\n",
      "city_caseDF           1083 non-null object\n",
      "group                 4233 non-null object\n",
      "confirmed             4233 non-null float64\n",
      "latitude              814 non-null object\n",
      "longitude             814 non-null object\n",
      "dtypes: float64(2), int64(1), object(17)\n",
      "memory usage: 847.4+ KB\n"
     ]
    }
   ],
   "source": [
    "case = case.replace('-', np.nan)  # Replace dashes with NaN\n",
    "df = patient.merge(case, on=['infection_case', 'province']\n",
    "                   ,suffixes = (None, '_caseDF'), how='left', validate='many_to_one')\n",
    "df.info()"
   ]
  },
  {
   "cell_type": "code",
   "execution_count": null,
   "id": "26f42e29",
   "metadata": {},
   "outputs": [],
   "source": [
    "# Dropping reduntant column and fix empty space in column name \n",
    "\n",
    "df = df.drop('city_caseDF', axis=1)\n",
    "df.rename(colums={' case_id': ''})"
   ]
  }
 ],
 "metadata": {
  "kernelspec": {
   "display_name": "PythonData",
   "language": "python",
   "name": "pythondata"
  },
  "language_info": {
   "codemirror_mode": {
    "name": "ipython",
    "version": 3
   },
   "file_extension": ".py",
   "mimetype": "text/x-python",
   "name": "python",
   "nbconvert_exporter": "python",
   "pygments_lexer": "ipython3",
   "version": "3.7.10"
  }
 },
 "nbformat": 4,
 "nbformat_minor": 5
}
