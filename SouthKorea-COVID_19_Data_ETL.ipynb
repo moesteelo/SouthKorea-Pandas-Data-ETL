{
 "cells": [
  {
   "cell_type": "code",
   "execution_count": 1,
   "id": "1e268905",
   "metadata": {},
   "outputs": [],
   "source": [
    "import pandas as pd\n",
    "import numpy as np\n",
    "import matplotlib.pyplot as plt\n",
    "import seaborn as sns\n",
    "\n",
    "case = pd.read_csv(\"Data Resources/Case.csv\")\n",
    "patient = pd.read_csv(\"Data Resources/PatientInfo.csv\")\n",
    "policy = pd.read_csv(\"Data Resources/Policy.csv\")\n",
    "region = pd.read_csv(\"Data Resources/Region.csv\")\n",
    "search = pd.read_csv(\"Data Resources/SearchTrend.csv\")\n",
    "seoul = pd.read_csv(\"Data Resources/SeoulFloating.csv\")\n",
    "time = pd.read_csv(\"Data Resources/Time.csv\")\n",
    "timeAge = pd.read_csv(\"Data Resources/TimeAge.csv\")\n",
    "timeGender = pd.read_csv(\"Data Resources/TimeGender.csv\")\n",
    "timeProvince = pd.read_csv(\"Data Resources/TimeProvince.csv\")\n",
    "weather = pd.read_csv(\"Data Resources/Weather.csv\")"
   ]
  },
  {
   "cell_type": "markdown",
   "id": "bac8f2e3",
   "metadata": {},
   "source": [
    "# Merging  AGE csv files sets to a Single Dataset"
   ]
  },
  {
   "cell_type": "code",
   "execution_count": 2,
   "id": "e4c853c0",
   "metadata": {},
   "outputs": [],
   "source": [
    "agePivot = timeAge.pivot(index='date', columns='age', values=['confirmed', 'deceased'])\n",
    "genderPivot = timeAge.pivot(index='date', columns='age', values=['confirmed', 'deceased'])\n",
    "provincePoint = timeAge.pivot(index='date', columns='age', values=['confirmed', 'deceased'])"
   ]
  },
  {
   "cell_type": "code",
   "execution_count": 3,
   "id": "34fa7ed4",
   "metadata": {},
   "outputs": [],
   "source": [
    "agePivot.columns = ['-'.join(col) for col in agePivot.columns]\n",
    "genderPivot.columns = ['-'.join(col) for col in genderPivot.columns]\n",
    "provincePoint.columns = ['-'.join(col) for col in provincePoint.columns]"
   ]
  },
  {
   "cell_type": "markdown",
   "id": "c1f70fbf",
   "metadata": {},
   "source": [
    "# Merging flattened datasets using df.concat()"
   ]
  },
  {
   "cell_type": "code",
   "execution_count": 4,
   "id": "f3eee6da",
   "metadata": {},
   "outputs": [],
   "source": [
    "pivots = pd.concat([agePivot, genderPivot, provincePoint], axis=1)\n",
    "\n",
    "timeDF = time.merge(pivots, on='date', how='left')"
   ]
  },
  {
   "cell_type": "markdown",
   "id": "a1fb17fb",
   "metadata": {},
   "source": [
    "# Prepare master Dataset"
   ]
  },
  {
   "cell_type": "code",
   "execution_count": 5,
   "id": "8508de42",
   "metadata": {},
   "outputs": [
    {
     "name": "stdout",
     "output_type": "stream",
     "text": [
      "<class 'pandas.core.frame.DataFrame'>\n",
      "Int64Index: 5165 entries, 0 to 5164\n",
      "Data columns (total 20 columns):\n",
      "patient_id            5165 non-null int64\n",
      "sex                   4043 non-null object\n",
      "age                   3785 non-null object\n",
      "country               5165 non-null object\n",
      "province              5165 non-null object\n",
      "city                  5071 non-null object\n",
      "infection_case        4246 non-null object\n",
      "infected_by           1346 non-null object\n",
      "contact_number        791 non-null object\n",
      "symptom_onset_date    690 non-null object\n",
      "confirmed_date        5162 non-null object\n",
      "released_date         1587 non-null object\n",
      "deceased_date         66 non-null object\n",
      "state                 5165 non-null object\n",
      " case_id              4233 non-null float64\n",
      "city_caseDF           1083 non-null object\n",
      "group                 4233 non-null object\n",
      "confirmed             4233 non-null float64\n",
      "latitude              814 non-null object\n",
      "longitude             814 non-null object\n",
      "dtypes: float64(2), int64(1), object(17)\n",
      "memory usage: 847.4+ KB\n"
     ]
    }
   ],
   "source": [
    "case = case.replace('-', np.nan)  # Replace dashes with NaN\n",
    "df = patient.merge(case, on=['infection_case', 'province']\n",
    "                   ,suffixes = (None, '_caseDF'), how='left', validate='many_to_one')\n",
    "df.info()"
   ]
  },
  {
   "cell_type": "code",
   "execution_count": 6,
   "id": "a89dba29",
   "metadata": {},
   "outputs": [],
   "source": [
    "# Dropping reduntant column and fix empty space in column name \n",
    "\n",
    "df = df.drop('city_caseDF', axis=1)\n",
    "df.rename(columns={' case_id': 'case_id'}, inplace=True)"
   ]
  },
  {
   "cell_type": "code",
   "execution_count": 7,
   "id": "3abc2811",
   "metadata": {},
   "outputs": [
    {
     "data": {
      "text/plain": [
       "Gyeongsan-si      639\n",
       "Seongnam-si       173\n",
       "Bucheon-si        162\n",
       "Gwanak-gu         113\n",
       "etc               110\n",
       "                 ... \n",
       "sankyeock-dong      1\n",
       "Kyeongsan-si        1\n",
       "Taebaek-si          1\n",
       "Ganghwa-gun         1\n",
       "Gapyeong-gun        1\n",
       "Name: city, Length: 163, dtype: int64"
      ]
     },
     "execution_count": 7,
     "metadata": {},
     "output_type": "execute_result"
    }
   ],
   "source": [
    "# Check whether region data is unique by province and city\n",
    "\n",
    "\n",
    "df = df.loc[:,~df.columns.duplicated()]\n",
    "df['province'].value_counts()\n",
    "df['city'].value_counts()"
   ]
  },
  {
   "cell_type": "code",
   "execution_count": 8,
   "id": "4a9936e9",
   "metadata": {},
   "outputs": [],
   "source": [
    "df = df.merge(region, on=['province', 'city'], how='left',\n",
    "             suffixes=(None, '_regionDF'), validate='many_to_one')"
   ]
  },
  {
   "cell_type": "markdown",
   "id": "f9257b49",
   "metadata": {},
   "source": [
    "# Adding a timeDF "
   ]
  },
  {
   "cell_type": "code",
   "execution_count": 9,
   "id": "d977ad9a",
   "metadata": {},
   "outputs": [],
   "source": [
    "timeDF['join_date'] = pd.to_datetime(timeDF['date'], format='%Y-%m-%d')"
   ]
  },
  {
   "cell_type": "code",
   "execution_count": 10,
   "id": "8e40782a",
   "metadata": {},
   "outputs": [
    {
     "ename": "ValueError",
     "evalue": "You are trying to merge on object and datetime64[ns] columns. If you wish to proceed you should use pd.concat",
     "output_type": "error",
     "traceback": [
      "\u001b[0;31m---------------------------------------------------------------------------\u001b[0m",
      "\u001b[0;31mValueError\u001b[0m                                Traceback (most recent call last)",
      "\u001b[0;32m<ipython-input-10-089d006025f4>\u001b[0m in \u001b[0;36m<module>\u001b[0;34m\u001b[0m\n\u001b[1;32m      1\u001b[0m df = df.merge(timeDF, left_on='confirmed_date', right_on='join_date',\n\u001b[0;32m----> 2\u001b[0;31m               how='left', suffixes=(None, '_timeDF'), validate='many_to_one')\n\u001b[0m",
      "\u001b[0;32m/Applications/anaconda3/envs/PythonData/lib/python3.7/site-packages/pandas/core/frame.py\u001b[0m in \u001b[0;36mmerge\u001b[0;34m(self, right, how, on, left_on, right_on, left_index, right_index, sort, suffixes, copy, indicator, validate)\u001b[0m\n\u001b[1;32m   7347\u001b[0m             \u001b[0mcopy\u001b[0m\u001b[0;34m=\u001b[0m\u001b[0mcopy\u001b[0m\u001b[0;34m,\u001b[0m\u001b[0;34m\u001b[0m\u001b[0;34m\u001b[0m\u001b[0m\n\u001b[1;32m   7348\u001b[0m             \u001b[0mindicator\u001b[0m\u001b[0;34m=\u001b[0m\u001b[0mindicator\u001b[0m\u001b[0;34m,\u001b[0m\u001b[0;34m\u001b[0m\u001b[0;34m\u001b[0m\u001b[0m\n\u001b[0;32m-> 7349\u001b[0;31m             \u001b[0mvalidate\u001b[0m\u001b[0;34m=\u001b[0m\u001b[0mvalidate\u001b[0m\u001b[0;34m,\u001b[0m\u001b[0;34m\u001b[0m\u001b[0;34m\u001b[0m\u001b[0m\n\u001b[0m\u001b[1;32m   7350\u001b[0m         )\n\u001b[1;32m   7351\u001b[0m \u001b[0;34m\u001b[0m\u001b[0m\n",
      "\u001b[0;32m/Applications/anaconda3/envs/PythonData/lib/python3.7/site-packages/pandas/core/reshape/merge.py\u001b[0m in \u001b[0;36mmerge\u001b[0;34m(left, right, how, on, left_on, right_on, left_index, right_index, sort, suffixes, copy, indicator, validate)\u001b[0m\n\u001b[1;32m     79\u001b[0m         \u001b[0mcopy\u001b[0m\u001b[0;34m=\u001b[0m\u001b[0mcopy\u001b[0m\u001b[0;34m,\u001b[0m\u001b[0;34m\u001b[0m\u001b[0;34m\u001b[0m\u001b[0m\n\u001b[1;32m     80\u001b[0m         \u001b[0mindicator\u001b[0m\u001b[0;34m=\u001b[0m\u001b[0mindicator\u001b[0m\u001b[0;34m,\u001b[0m\u001b[0;34m\u001b[0m\u001b[0;34m\u001b[0m\u001b[0m\n\u001b[0;32m---> 81\u001b[0;31m         \u001b[0mvalidate\u001b[0m\u001b[0;34m=\u001b[0m\u001b[0mvalidate\u001b[0m\u001b[0;34m,\u001b[0m\u001b[0;34m\u001b[0m\u001b[0;34m\u001b[0m\u001b[0m\n\u001b[0m\u001b[1;32m     82\u001b[0m     )\n\u001b[1;32m     83\u001b[0m     \u001b[0;32mreturn\u001b[0m \u001b[0mop\u001b[0m\u001b[0;34m.\u001b[0m\u001b[0mget_result\u001b[0m\u001b[0;34m(\u001b[0m\u001b[0;34m)\u001b[0m\u001b[0;34m\u001b[0m\u001b[0;34m\u001b[0m\u001b[0m\n",
      "\u001b[0;32m/Applications/anaconda3/envs/PythonData/lib/python3.7/site-packages/pandas/core/reshape/merge.py\u001b[0m in \u001b[0;36m__init__\u001b[0;34m(self, left, right, how, on, left_on, right_on, axis, left_index, right_index, sort, suffixes, copy, indicator, validate)\u001b[0m\n\u001b[1;32m    628\u001b[0m         \u001b[0;31m# validate the merge keys dtypes. We may need to coerce\u001b[0m\u001b[0;34m\u001b[0m\u001b[0;34m\u001b[0m\u001b[0;34m\u001b[0m\u001b[0m\n\u001b[1;32m    629\u001b[0m         \u001b[0;31m# to avoid incompat dtypes\u001b[0m\u001b[0;34m\u001b[0m\u001b[0;34m\u001b[0m\u001b[0;34m\u001b[0m\u001b[0m\n\u001b[0;32m--> 630\u001b[0;31m         \u001b[0mself\u001b[0m\u001b[0;34m.\u001b[0m\u001b[0m_maybe_coerce_merge_keys\u001b[0m\u001b[0;34m(\u001b[0m\u001b[0;34m)\u001b[0m\u001b[0;34m\u001b[0m\u001b[0;34m\u001b[0m\u001b[0m\n\u001b[0m\u001b[1;32m    631\u001b[0m \u001b[0;34m\u001b[0m\u001b[0m\n\u001b[1;32m    632\u001b[0m         \u001b[0;31m# If argument passed to validate,\u001b[0m\u001b[0;34m\u001b[0m\u001b[0;34m\u001b[0m\u001b[0;34m\u001b[0m\u001b[0m\n",
      "\u001b[0;32m/Applications/anaconda3/envs/PythonData/lib/python3.7/site-packages/pandas/core/reshape/merge.py\u001b[0m in \u001b[0;36m_maybe_coerce_merge_keys\u001b[0;34m(self)\u001b[0m\n\u001b[1;32m   1142\u001b[0m                 \u001b[0;32mraise\u001b[0m \u001b[0mValueError\u001b[0m\u001b[0;34m(\u001b[0m\u001b[0mmsg\u001b[0m\u001b[0;34m)\u001b[0m\u001b[0;34m\u001b[0m\u001b[0;34m\u001b[0m\u001b[0m\n\u001b[1;32m   1143\u001b[0m             \u001b[0;32melif\u001b[0m \u001b[0;32mnot\u001b[0m \u001b[0mis_datetimelike\u001b[0m\u001b[0;34m(\u001b[0m\u001b[0mlk\u001b[0m\u001b[0;34m)\u001b[0m \u001b[0;32mand\u001b[0m \u001b[0mis_datetimelike\u001b[0m\u001b[0;34m(\u001b[0m\u001b[0mrk\u001b[0m\u001b[0;34m)\u001b[0m\u001b[0;34m:\u001b[0m\u001b[0;34m\u001b[0m\u001b[0;34m\u001b[0m\u001b[0m\n\u001b[0;32m-> 1144\u001b[0;31m                 \u001b[0;32mraise\u001b[0m \u001b[0mValueError\u001b[0m\u001b[0;34m(\u001b[0m\u001b[0mmsg\u001b[0m\u001b[0;34m)\u001b[0m\u001b[0;34m\u001b[0m\u001b[0;34m\u001b[0m\u001b[0m\n\u001b[0m\u001b[1;32m   1145\u001b[0m             \u001b[0;32melif\u001b[0m \u001b[0mis_datetime64tz_dtype\u001b[0m\u001b[0;34m(\u001b[0m\u001b[0mlk\u001b[0m\u001b[0;34m)\u001b[0m \u001b[0;32mand\u001b[0m \u001b[0;32mnot\u001b[0m \u001b[0mis_datetime64tz_dtype\u001b[0m\u001b[0;34m(\u001b[0m\u001b[0mrk\u001b[0m\u001b[0;34m)\u001b[0m\u001b[0;34m:\u001b[0m\u001b[0;34m\u001b[0m\u001b[0;34m\u001b[0m\u001b[0m\n\u001b[1;32m   1146\u001b[0m                 \u001b[0;32mraise\u001b[0m \u001b[0mValueError\u001b[0m\u001b[0;34m(\u001b[0m\u001b[0mmsg\u001b[0m\u001b[0;34m)\u001b[0m\u001b[0;34m\u001b[0m\u001b[0;34m\u001b[0m\u001b[0m\n",
      "\u001b[0;31mValueError\u001b[0m: You are trying to merge on object and datetime64[ns] columns. If you wish to proceed you should use pd.concat"
     ]
    }
   ],
   "source": [
    "df = df.merge(timeDF, left_on='confirmed_date', right_on='join_date',\n",
    "              how='left', suffixes=(None, '_timeDF'), validate='many_to_one')\n"
   ]
  },
  {
   "cell_type": "code",
   "execution_count": null,
   "id": "e91c9aa4",
   "metadata": {},
   "outputs": [],
   "source": []
  }
 ],
 "metadata": {
  "kernelspec": {
   "display_name": "PythonData",
   "language": "python",
   "name": "pythondata"
  },
  "language_info": {
   "codemirror_mode": {
    "name": "ipython",
    "version": 3
   },
   "file_extension": ".py",
   "mimetype": "text/x-python",
   "name": "python",
   "nbconvert_exporter": "python",
   "pygments_lexer": "ipython3",
   "version": "3.7.10"
  }
 },
 "nbformat": 4,
 "nbformat_minor": 5
}
